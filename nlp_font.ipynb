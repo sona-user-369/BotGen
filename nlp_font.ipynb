{
 "cells": [
  {
   "cell_type": "code",
   "execution_count": 15,
   "metadata": {
    "collapsed": true,
    "ExecuteTime": {
     "end_time": "2023-10-07T01:00:23.783546587Z",
     "start_time": "2023-10-07T01:00:22.900278898Z"
    }
   },
   "outputs": [
    {
     "name": "stdout",
     "output_type": "stream",
     "text": [
      "I PRON I\n",
      "have AUX have\n",
      "not PART not\n",
      "to PART to\n",
      "be AUX be\n",
      "going VERB go\n",
      "to PART to\n",
      "church VERB church\n"
     ]
    }
   ],
   "source": [
    "import spacy\n",
    "\n",
    "nlp = spacy.load('en_core_web_sm')\n",
    "doc = nlp(u'I have not to be going to church')\n",
    "\n",
    "for text in doc:\n",
    "    print(text.text, text.pos_, text.lemma_)"
   ]
  },
  {
   "cell_type": "code",
   "execution_count": 20,
   "outputs": [
    {
     "ename": "TypeError",
     "evalue": "make_lemmatizer() missing 3 required positional arguments: 'model', 'overwrite', and 'scorer'",
     "output_type": "error",
     "traceback": [
      "\u001B[0;31m---------------------------------------------------------------------------\u001B[0m",
      "\u001B[0;31mTypeError\u001B[0m                                 Traceback (most recent call last)",
      "Cell \u001B[0;32mIn[20], line 3\u001B[0m\n\u001B[1;32m      1\u001B[0m \u001B[38;5;66;03m#lemmatisation\u001B[39;00m\n\u001B[1;32m      2\u001B[0m \u001B[38;5;28;01mfrom\u001B[39;00m \u001B[38;5;21;01mspacy\u001B[39;00m\u001B[38;5;21;01m.\u001B[39;00m\u001B[38;5;21;01mpipeline\u001B[39;00m\u001B[38;5;21;01m.\u001B[39;00m\u001B[38;5;21;01mlemmatizer\u001B[39;00m \u001B[38;5;28;01mimport\u001B[39;00m make_lemmatizer, Lemmatizer\n\u001B[0;32m----> 3\u001B[0m lemmatizer \u001B[38;5;241m=\u001B[39m \u001B[43mmake_lemmatizer\u001B[49m\u001B[43m(\u001B[49m\u001B[43mnlp\u001B[49m\u001B[43m,\u001B[49m\u001B[43mname\u001B[49m\u001B[38;5;241;43m=\u001B[39;49m\u001B[38;5;124;43m'\u001B[39;49m\u001B[38;5;124;43mlemmatizer\u001B[39;49m\u001B[38;5;124;43m'\u001B[39;49m\u001B[43m,\u001B[49m\u001B[43m \u001B[49m\u001B[43mmode\u001B[49m\u001B[38;5;241;43m=\u001B[39;49m\u001B[38;5;124;43m'\u001B[39;49m\u001B[38;5;124;43mrule\u001B[39;49m\u001B[38;5;124;43m'\u001B[39;49m\u001B[43m)\u001B[49m\n\u001B[1;32m      4\u001B[0m lemmatizer(\u001B[38;5;124m'\u001B[39m\u001B[38;5;124mchuckles\u001B[39m\u001B[38;5;124m'\u001B[39m, \u001B[38;5;124m'\u001B[39m\u001B[38;5;124mNOUN\u001B[39m\u001B[38;5;124m'\u001B[39m)\n",
      "\u001B[0;31mTypeError\u001B[0m: make_lemmatizer() missing 3 required positional arguments: 'model', 'overwrite', and 'scorer'"
     ]
    }
   ],
   "source": [
    "#lemmatisation\n",
    "from spacy.pipeline.lemmatizer import make_lemmatizer, Lemmatizer\n",
    "lemmatizer = make_lemmatizer(nlp,name='lemmatizer', mode='rule')\n",
    "lemmatizer('chuckles', 'NOUN')"
   ],
   "metadata": {
    "collapsed": false,
    "ExecuteTime": {
     "end_time": "2023-10-07T01:24:12.120518984Z",
     "start_time": "2023-10-07T01:24:12.107259562Z"
    }
   }
  },
  {
   "cell_type": "code",
   "execution_count": null,
   "outputs": [],
   "source": [],
   "metadata": {
    "collapsed": false
   }
  }
 ],
 "metadata": {
  "kernelspec": {
   "display_name": "Python 3",
   "language": "python",
   "name": "python3"
  },
  "language_info": {
   "codemirror_mode": {
    "name": "ipython",
    "version": 2
   },
   "file_extension": ".py",
   "mimetype": "text/x-python",
   "name": "python",
   "nbconvert_exporter": "python",
   "pygments_lexer": "ipython2",
   "version": "2.7.6"
  }
 },
 "nbformat": 4,
 "nbformat_minor": 0
}
