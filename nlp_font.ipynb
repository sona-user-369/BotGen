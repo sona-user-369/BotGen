{
 "cells": [
  {
   "cell_type": "code",
   "execution_count": 4,
   "metadata": {
    "collapsed": true,
    "ExecuteTime": {
     "end_time": "2023-10-31T02:22:58.140442834Z",
     "start_time": "2023-10-31T02:22:57.223420095Z"
    }
   },
   "outputs": [
    {
     "name": "stdout",
     "output_type": "stream",
     "text": [
      "I PRON I\n",
      "have AUX have\n",
      "not PART not\n",
      "to PART to\n",
      "be AUX be\n",
      "going VERB go\n",
      "to PART to\n",
      "church VERB church\n"
     ]
    }
   ],
   "source": [
    "#be aware of version of spacy\n",
    "import spacy\n",
    "\n",
    "nlp = spacy.load('en_core_web_sm')\n",
    "doc = nlp(u'I have not to be going to church')\n",
    "\n",
    "for text in doc:\n",
    "    print(text.text, text.pos_, text.lemma_)"
   ]
  },
  {
   "cell_type": "code",
   "execution_count": 17,
   "outputs": [
    {
     "name": "stdout",
     "output_type": "stream",
     "text": [
      "Google ORG\n",
      "California GPE\n"
     ]
    }
   ],
   "source": [
    "the_phrase = u\"My Google computer is for building app that can change the world for California\"\n",
    "the_doc = nlp(the_phrase)\n",
    "\n",
    "for ent in the_doc.ents:\n",
    "    print(ent.text, ent.label_)"
   ],
   "metadata": {
    "collapsed": false,
    "ExecuteTime": {
     "end_time": "2023-10-31T02:32:19.253034558Z",
     "start_time": "2023-10-31T02:32:19.212524897Z"
    }
   }
  },
  {
   "cell_type": "code",
   "execution_count": 19,
   "outputs": [
    {
     "name": "stdout",
     "output_type": "stream",
     "text": [
      "{'antérieures', 'par', 'dès', 'suivant', 'différente', 'huit', 'quinze', 'sa', 'celles-la', 'revoilà', 'ont', 'soi-même', 'vu', 'quiconque', 'etaient', \"m'\", 'quarante', 'laquelle', 'parce', 'est', 'y', 'sent', 'neuvième', 'meme', 'abord', 'miens', 'plus', 'sixième', 'soi-meme', 'le', 'ta', 'donc', 'pouvait', 'dix-sept', 'pourrait', \"j'\", 'étaient', 'ait', 'm’', 'premièrement', 'quatrièmement', 'dire', 'celui', 'directe', 'jusqu', 'l’', 'il', 'aussi', \"d'\", 'etant', 'aupres', 'selon', 'ho', 'tend', 'bat', 'étais', 'sept', 'differentes', 'puis', 'certaine', 'ouverte', 'ouste', 'da', 'va', 'elles-memes', 'dans', 'hou', 'autrui', 'dit', 'durant', 'auxquelles', 'importe', 'autre', 'uns', 'celle-la', 'quelles', \"s'\", 'anterieure', 'on', 'exactement', 'où', 'peux', 'lui', 'celles-ci', 'qui', 'pour', 'revoici', 'suffit', 'tenant', 'aurait', 'dessous', 'es', 'o', 'celui-ci', 'hé', 'deux', 'son', 'combien', 'vous-mêmes', 'plutôt', 'suivante', 'specifiques', 'trois', 'alors', 'bas', 'toi', 'restent', 'malgré', 'tiens', 'ça', 'elle', 'déja', 'rendre', 'certes', 'effet', 'car', 'celles-là', 'suivre', 'de', 'sait', 'diverse', 'semble', 'ouvert', 'dejà', 'autrement', 'na', 'proche', 'devers', 'spécifiques', 'tel', 'rend', 'mon', 'toi-meme', 'chacun', 'hem', 'mais', 'sienne', 'celui-là', 'fais', 'plutot', 'possible', 'ci', 'seule', 'tente', 'après', 'toujours', 'quant-à-soi', 'différents', 'douze', 'ils', 'retour', 'nouveau', 'deuxième', 'là', 'seuls', 'ceci', 'la', 'serait', 'ès', 'lui-meme', 'aie', 'dix-neuf', 'plusieurs', 'compris', 'toute', 'memes', 'touchant', 'pendant', 'reste', 'onze', 'certain', 'antérieure', 'ha', 'était', 'desquelles', 'sien', 'celui-la', 'faisant', 'déjà', 'quatre-vingt', 'également', 'dont', 'du', 'leur', 'celle-là', 'merci', 'moi-meme', 'divers', 'quatrième', 'celles', 'quatorze', 'permet', 'tout', 'différentes', 'avaient', 'sur', 'faisaient', 'pense', 'sans', 'duquel', 'quand', \"n'\", 'lequel', 'même', 'devra', 'ainsi', 'quatre', 'peu', 'avait', 'avec', 'notamment', 'tu', 'voilà', 'tiennes', 'lesquels', 'dix', 'excepté', 'revoila', 'les', 'depuis', 'moi-même', 'eux', 'ce', 'ma', 'basee', 'ses', 'quelle', 'anterieur', \"t'\", 'vas', 'derrière', 'personne', 'malgre', 'précisement', 'des', 'façon', 'desquels', 'tienne', 'voici', 'cependant', 'entre', 'quelques', 'peuvent', 'au', 'desormais', 'pres', 'pu', 'vingt', 'quel', 't’', 'vers', 'ou', 'longtemps', 'à', 'dite', 'd’', 'votres', 'dixième', 'ouias', 'eux-mêmes', 'peut', 'toutes', 'ah', 'tres', 'parle', 'quelque', 'quels', 'maintenant', 'aura', 'nombreux', 'votre', 'parfois', 'possibles', 'doit', 'semblent', 'ton', 'vous', 'ceux-ci', 'dehors', 'devant', 'derriere', \"quelqu'un\", 'afin', 'sauf', 'première', 'delà', 'anterieures', 'hi', 'pas', 'soixante', 'avons', 'laisser', 'être', 'elles-mêmes', 'encore', 'gens', 'sous', 'chacune', 'mien', 'notre', 'auquel', 'doivent', 'semblable', 'avais', 'si', 'je', 'egalement', 'en', 'nos', 'se', 'envers', 'antérieur', 'siens', 'celle', 'allaient', 'moins', 'nôtre', 'soit', 'procedant', 'autres', 'leurs', 'lors', 'me', 'seul', 'eu', 'ai', 'tels', 'via', 'as', 'jusque', 'tous', 'qu’', 'ô', 'préalable', 'troisièmement', 'certaines', 'relative', 'ceux-là', 'comment', 'puisque', 'certains', 'té', 'cinquantième', 'avoir', 'facon', 'partant', 'dedans', 'aux', 'soi', 'suffisante', 'n’', 'neanmoins', 'elles', 'allons', 'troisième', 'lesquelles', 'a', 'apres', 'cette', 'étant', 'désormais', 'près', 'quant', 'nous-mêmes', 'onzième', 'avant', 'vais', 'etais', 'quelconque', 'te', 'dits', 'fait', 'moindres', 'ceux', 'spécifique', 'tellement', 'voila', 'etc', 'douzième', 'differente', 'houp', 'suffisant', 'six', 'cet', 'ayant', 'maint', 'que', 'lorsque', 'sont', 'vôtres', 'deuxièmement', 'comme', 'debout', 'sinon', 'seront', 'vé', 'vos', 'deja', 'different', 'cinq', 'i', 'nous', 'cinquième', 'juste', 'tant', 'relativement', 'unes', 'seulement', 'c’', 'etait', 'celle-ci', 'suivants', 'environ', 'sera', 'chez', 'nôtres', 'parlent', \"qu'\", 'seules', 'hue', 'â', 'auront', 'mienne', 'semblaient', 'elle-même', 'outre', 'hors', 'pourquoi', 'tien', 'auraient', 'souvent', 'trente', 's’', 'stop', 'seize', 'cent', 'tes', 'septième', 'j’', 'suit', 'hep', 'prealable', 'auxquels', \"l'\", 'une', 'assez', 'ne', 'tenir', 'cela', 'parmi', 'ni', 'parler', 'siennes', 'cinquantaine', 'moi', 'precisement', 'diverses', 'quoique', 'or', 'quoi', 'concernant', 'un', 'ces', 'premier', 'seraient', 'toi-même', \"c'\", 'cinquante', 'hui', 'differents', 'suis', 'treize', 'directement', 'différent', 'pourrais', 'feront', 'dessus', 'suivantes', 'lès', 'restant', 'enfin', 'mêmes', 'hormis', 'vôtre', 'néanmoins', 'nombreuses', 'attendu', 'eh', 'très', 'vont', 'specifique', 'et', 'dix-huit', 'etre', 'nul', 'huitième', 'chaque', 'font', 'telles', 'mille', 'surtout', 'miennes', 'telle', 'elle-meme', 'mes', 'ouverts', 'lui-même'}\n"
     ]
    }
   ],
   "source": [
    "from spacy.lang.en.stop_words import STOP_WORDS\n",
    "from spacy.lang.fr.stop_words import STOP_WORDS as FR_STOP_WORDS\n",
    "print(FR_STOP_WORDS)"
   ],
   "metadata": {
    "collapsed": false,
    "ExecuteTime": {
     "end_time": "2023-10-31T02:33:55.866424287Z",
     "start_time": "2023-10-31T02:33:51.656308333Z"
    }
   }
  },
  {
   "cell_type": "code",
   "execution_count": null,
   "outputs": [],
   "source": [],
   "metadata": {
    "collapsed": false
   }
  }
 ],
 "metadata": {
  "kernelspec": {
   "display_name": "Python 3",
   "language": "python",
   "name": "python3"
  },
  "language_info": {
   "codemirror_mode": {
    "name": "ipython",
    "version": 2
   },
   "file_extension": ".py",
   "mimetype": "text/x-python",
   "name": "python",
   "nbconvert_exporter": "python",
   "pygments_lexer": "ipython2",
   "version": "2.7.6"
  }
 },
 "nbformat": 4,
 "nbformat_minor": 0
}
